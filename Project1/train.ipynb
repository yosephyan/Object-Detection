{
 "cells": [
  {
   "cell_type": "markdown",
   "id": "344c1c73",
   "metadata": {},
   "source": [
    "# Yoseph Yan, ypy4, February 8, 2024, Intelligent Autonomous Systems"
   ]
  },
  {
   "cell_type": "code",
   "execution_count": 1,
   "id": "2deb170f",
   "metadata": {},
   "outputs": [],
   "source": [
    "import numpy as np\n",
    "import cv2\n",
    "import matplotlib.pyplot as plt\n",
    "from skimage import io\n",
    "from skimage.measure import label, regionprops\n",
    "import os"
   ]
  },
  {
   "cell_type": "code",
   "execution_count": 2,
   "id": "dc395383",
   "metadata": {},
   "outputs": [
    {
     "ename": "FileNotFoundError",
     "evalue": "[Errno 2] No such file or directory: 'trainingimgs'",
     "output_type": "error",
     "traceback": [
      "\u001b[0;31m---------------------------------------------------------------------------\u001b[0m",
      "\u001b[0;31mFileNotFoundError\u001b[0m                         Traceback (most recent call last)",
      "Cell \u001b[0;32mIn[2], line 8\u001b[0m\n\u001b[1;32m      5\u001b[0m orangepixels \u001b[38;5;241m=\u001b[39m []\n\u001b[1;32m      7\u001b[0m \u001b[38;5;66;03m# Loop through the files in the image folder\u001b[39;00m\n\u001b[0;32m----> 8\u001b[0m \u001b[38;5;28;01mfor\u001b[39;00m imagefile \u001b[38;5;129;01min\u001b[39;00m os\u001b[38;5;241m.\u001b[39mlistdir(imagepath):\n\u001b[1;32m      9\u001b[0m     \u001b[38;5;66;03m# Full path to the file in the first folder\u001b[39;00m\n\u001b[1;32m     10\u001b[0m     imagefilepath \u001b[38;5;241m=\u001b[39m os\u001b[38;5;241m.\u001b[39mpath\u001b[38;5;241m.\u001b[39mjoin(imagepath, imagefile)\n\u001b[1;32m     12\u001b[0m     \u001b[38;5;66;03m# Get name of the files in the mask folder\u001b[39;00m\n",
      "\u001b[0;31mFileNotFoundError\u001b[0m: [Errno 2] No such file or directory: 'trainingimgs'"
     ]
    }
   ],
   "source": [
    "# Define the paths to the folders\n",
    "imagepath = 'trainingimgs'\n",
    "orangepath = 'orangemasks'\n",
    "\n",
    "orangepixels = []\n",
    "\n",
    "# Loop through the files in the image folder\n",
    "for imagefile in os.listdir(imagepath):\n",
    "    # Full path to the file in the first folder\n",
    "    imagefilepath = os.path.join(imagepath, imagefile)\n",
    "    \n",
    "    # Get name of the files in the mask folder\n",
    "    orangemaskfile = imagefile.replace('.png', '')\n",
    "    orangemaskfile = f\"{orangemaskfile}_OrangeCone_mask.npy\"\n",
    "        \n",
    "    # Full path to the corresponding file in the mask folder\n",
    "    orangemaskpath = os.path.join(orangepath, orangemaskfile)\n",
    "        \n",
    "    # Check if the file is png and load the files\n",
    "    if imagefile.endswith('.png'):\n",
    "        image = io.imread(imagefilepath)\n",
    "        \n",
    "        orangemask = np.load(orangemaskpath)\n",
    "        orange = image[orangemask]\n",
    "        orangepixels.append(orange)\n",
    "        \n",
    "orangepixels = np.concatenate(orangepixels, axis=0)\n",
    "covar = np.cov(orangepixels.T)"
   ]
  },
  {
   "cell_type": "code",
   "execution_count": 6,
   "id": "aa985aa1",
   "metadata": {},
   "outputs": [],
   "source": [
    "# EM Algorithm for GMM\n",
    "# Used the equations mentioned in lecture\n",
    "n = orangepixels.shape[0]\n",
    "def e_step(means, covars, cluster):\n",
    "    xminusmu = orangepixels.reshape(-1, 1, 3) - means.reshape(1, -1, 3)\n",
    "    g = np.exp(-0.5 * ((xminusmu.reshape(n, cluster, 1, 3) @ np.linalg.inv(covars)).reshape(n, cluster, 3) * xminusmu).sum(axis=2)) / ((2 * np.pi) ** 1.5 * np.sqrt(np.array([np.linalg.det(covars[i, :, :].reshape(3, 3)) for i in range(cluster)]))).reshape(1, cluster)\n",
    "    z = g / g.sum(axis=1, keepdims=True)\n",
    "    return z, g\n",
    "\n",
    "def m_step(z, cluster):\n",
    "    means = z.T @ orangepixels / z.sum(axis=0, keepdims=True).T\n",
    "    xminusmu = orangepixels.reshape(-1, 1, 3) - means.reshape(1, -1, 3)\n",
    "    covars = (xminusmu.reshape(n, cluster, 3, 1) * xminusmu.reshape(n, cluster, 1, 3) * z.reshape(n, cluster, 1, 1)).sum(axis=0) / z.sum(axis=0).reshape(cluster, 1, 1)\n",
    "    return means, covars\n",
    "\n",
    "def get_gmm_parameters(cluster, maxiterations = 1000, term = 1e-5):\n",
    "    means = np.random.rand(cluster, 3) * 255\n",
    "    prevmeans = means.copy()\n",
    "    covars = np.array([covar + np.random.rand() * 1 for _ in range(cluster)])\n",
    "    \n",
    "    for _ in range(maxiterations):\n",
    "        z, g = e_step(means, covars, cluster)\n",
    "        means, covars = m_step(z, cluster)\n",
    "        if np.linalg.norm(means - prevmeans) <= term:\n",
    "            break\n",
    "        prevmeans = means.copy()\n",
    "    weight = 1 / np.max(g, axis=0)\n",
    "\n",
    "    # Saves the parameters\n",
    "    np.save('parameters/means.npy', np.array(means))\n",
    "    np.save('parameters/covars.npy', np.array(covars))\n",
    "    np.save('parameters/ws.npy', np.array(weight))\n",
    "\n",
    "get_gmm_parameters(3)"
   ]
  },
  {
   "cell_type": "code",
   "execution_count": null,
   "id": "5ead576a",
   "metadata": {},
   "outputs": [],
   "source": []
  }
 ],
 "metadata": {
  "kernelspec": {
   "display_name": "Python 3 (ipykernel)",
   "language": "python",
   "name": "python3"
  },
  "language_info": {
   "codemirror_mode": {
    "name": "ipython",
    "version": 3
   },
   "file_extension": ".py",
   "mimetype": "text/x-python",
   "name": "python",
   "nbconvert_exporter": "python",
   "pygments_lexer": "ipython3",
   "version": "3.11.4"
  }
 },
 "nbformat": 4,
 "nbformat_minor": 5
}
